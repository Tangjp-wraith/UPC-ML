{
 "cells": [
  {
   "cell_type": "code",
   "execution_count": 54,
   "metadata": {},
   "outputs": [],
   "source": [
    "import skimage\n",
    "from skimage import io, segmentation\n",
    "from collections import defaultdict\n",
    "import numpy as np\n",
    "import tensorflow as tf\n",
    "import cv2"
   ]
  },
  {
   "attachments": {},
   "cell_type": "markdown",
   "metadata": {},
   "source": [
    "使用超像素分割将图像分成若干个被编号的区域。\n",
    "\n",
    "构建一个数据结构来记录每个编号区域的像素点的坐标、最大最小横纵坐标等信息。\n",
    "\n",
    "根据每个区域的最大最小横纵坐标，在训练集图片上获取对应的矩形区域。\n",
    "\n",
    "对矩形区域进行下采样，将其拉成一个向量。\n",
    "\n",
    "将这个向量喂给神经网络（即分类器）。\n",
    "\n",
    "神经网络根据这个向量和本身的标签，进行反向传播调整前面几层的权重和偏置。"
   ]
  },
  {
   "cell_type": "code",
   "execution_count": 55,
   "metadata": {},
   "outputs": [
    {
     "ename": "AttributeError",
     "evalue": "module 'cv2' has no attribute 'ximgproc'",
     "output_type": "error",
     "traceback": [
      "\u001b[1;31m---------------------------------------------------------------------------\u001b[0m",
      "\u001b[1;31mAttributeError\u001b[0m                            Traceback (most recent call last)",
      "Cell \u001b[1;32mIn [55], line 7\u001b[0m\n\u001b[0;32m      4\u001b[0m image \u001b[39m=\u001b[39m cv2\u001b[39m.\u001b[39mimread(\u001b[39m'\u001b[39m\u001b[39m./test.jpg\u001b[39m\u001b[39m'\u001b[39m)\n\u001b[0;32m      6\u001b[0m \u001b[39m# 进行超像素分割\u001b[39;00m\n\u001b[1;32m----> 7\u001b[0m segmented_image \u001b[39m=\u001b[39m cv2\u001b[39m.\u001b[39;49mximgproc\u001b[39m.\u001b[39mcreateSuperpixelSEEDS(image\u001b[39m.\u001b[39mshape[\u001b[39m0\u001b[39m], image\u001b[39m.\u001b[39mshape[\u001b[39m1\u001b[39m], image\u001b[39m.\u001b[39mshape[\u001b[39m2\u001b[39m], \u001b[39m400\u001b[39m, \u001b[39m5\u001b[39m, \u001b[39m2\u001b[39m)\n\u001b[0;32m      8\u001b[0m segmented_image\u001b[39m.\u001b[39miterate(image)\n\u001b[0;32m     10\u001b[0m \u001b[39m# 获取编号区域信息\u001b[39;00m\n",
      "\u001b[1;31mAttributeError\u001b[0m: module 'cv2' has no attribute 'ximgproc'"
     ]
    }
   ],
   "source": [
    "import cv2\n",
    "\n",
    "# 读取图像\n",
    "image = cv2.imread('./test.jpg')\n",
    "\n",
    "# 进行超像素分割\n",
    "segmented_image = cv2.ximgproc.createSuperpixelSEEDS(image.shape[0], image.shape[1], image.shape[2], 400, 5, 2)\n",
    "segmented_image.iterate(image)\n",
    "\n",
    "# 获取编号区域信息\n",
    "num_regions = segmented_image.getNumberOfSuperpixels()\n",
    "labels = segmented_image.getLabels()\n",
    "\n",
    "# 构建区域信息数据结构\n",
    "region_info = {}\n",
    "for region_id in range(num_regions):\n",
    "    # 获取区域的像素点坐标\n",
    "    points = segmented_image.getLabelContourMask(region_id)\n",
    "    # 计算区域的最大最小横纵坐标\n",
    "    min_x = points[:,:,0].min()\n",
    "    max_x = points[:,:,0].max()\n",
    "    min_y = points[:,:,1].min()\n",
    "    max_y = points[:,:,1].max()\n",
    "    # 将区域信息添加到数据结构中\n",
    "    region_info[region_id] = {\n",
    "        'points': points,\n",
    "        'min_x': min_x,\n",
    "        'max_x': max_x,\n",
    "        'min_y': min_y,\n",
    "        'max_y': max_y,\n",
    "    }"
   ]
  },
  {
   "cell_type": "code",
   "execution_count": 21,
   "metadata": {},
   "outputs": [
    {
     "name": "stdout",
     "output_type": "stream",
     "text": [
      "[[[ 13  24  20]\n",
      "  [ 15  25  24]\n",
      "  [ 18  30  30]\n",
      "  [ 29  45  45]\n",
      "  [ 45  65  72]]\n",
      "\n",
      " [[249 255 253]\n",
      "  [249 255 255]\n",
      "  [248 255 255]\n",
      "  [249 255 255]\n",
      "  [248 255 255]]\n",
      "\n",
      " [[252 255 255]\n",
      "  [251 255 255]\n",
      "  [249 255 255]\n",
      "  [249 255 255]\n",
      "  [253 255 254]]]\n"
     ]
    }
   ],
   "source": [
    "# 读入训练集图片\n",
    "train_image = skimage.io.imread('./train.jpg')\n",
    "\n",
    "# 遍历每个区域\n",
    "for region_id, region in region_info.items():\n",
    "    # 获取该区域的最大最小横纵坐标\n",
    "    min_x, max_x, min_y, max_y = region['min_x'], region['max_x'], region['min_y'], region['max_y']\n",
    "    # 在训练集图片上获取该区域对应的矩形区域\n",
    "    region_image = train_image[min_y:max_y+1, min_x:max_x+1, :]\n",
    "\n",
    "print(region_image)"
   ]
  },
  {
   "cell_type": "code",
   "execution_count": 39,
   "metadata": {},
   "outputs": [
    {
     "name": "stdout",
     "output_type": "stream",
     "text": [
      "137\n"
     ]
    }
   ],
   "source": [
    "def down_sample(image):\n",
    "    # 将图像缩放到 32x32 的尺寸\n",
    "    image = cv2.resize(image, (32, 32))\n",
    "    # 将图像转换为向量\n",
    "    vector = image.flatten()\n",
    "    return vector\n",
    "# 遍历每个区域\n",
    "for region_id, region in region_info.items():\n",
    "    # 获取区域的最大最小横纵坐标\n",
    "    min_row, min_col, max_row, max_col = region['min_x'], region['min_y'], region['max_x'], region['max_y']\n",
    "    # 在图像中截取矩形区域\n",
    "    region_image = image[min_row:max_row, min_col:max_col]\n",
    "    # 进行下采样\n",
    "    vector = down_sample(region_image)\n",
    "    # 更新区域信息\n",
    "    region_info[region_id]['vector'] = vector\n",
    "\n"
   ]
  },
  {
   "cell_type": "code",
   "execution_count": 29,
   "metadata": {},
   "outputs": [
    {
     "ename": "KeyError",
     "evalue": "'label'",
     "output_type": "error",
     "traceback": [
      "\u001b[1;31m---------------------------------------------------------------------------\u001b[0m",
      "\u001b[1;31mKeyError\u001b[0m                                  Traceback (most recent call last)",
      "Cell \u001b[1;32mIn [29], line 38\u001b[0m\n\u001b[0;32m     36\u001b[0m vector \u001b[39m=\u001b[39m tf\u001b[39m.\u001b[39mexpand_dims(vector, axis\u001b[39m=\u001b[39m\u001b[39m-\u001b[39m\u001b[39m1\u001b[39m)\n\u001b[0;32m     37\u001b[0m \u001b[39m# 获取该区域的标签\u001b[39;00m\n\u001b[1;32m---> 38\u001b[0m label \u001b[39m=\u001b[39m region[\u001b[39m'\u001b[39;49m\u001b[39mlabel\u001b[39;49m\u001b[39m'\u001b[39;49m]\n\u001b[0;32m     39\u001b[0m \u001b[39m# 将标签转换为 TensorFlow 张量\u001b[39;00m\n\u001b[0;32m     40\u001b[0m label \u001b[39m=\u001b[39m tf\u001b[39m.\u001b[39mconvert_to_tensor(label, dtype\u001b[39m=\u001b[39mtf\u001b[39m.\u001b[39mint64)\n",
      "\u001b[1;31mKeyError\u001b[0m: 'label'"
     ]
    }
   ],
   "source": [
    "# 定义网络\n",
    "class Classifier(tf.keras.Model):\n",
    "    def __init__(self, num_classes):\n",
    "        super(Classifier, self).__init__()\n",
    "        self.conv1 = tf.keras.layers.Conv2D(16, 3, activation='relu', padding='same')\n",
    "        self.conv2 = tf.keras.layers.Conv2D(32, 3, activation='relu', padding='same')\n",
    "        self.conv3 = tf.keras.layers.Conv2D(64, 3, activation='relu', padding='same')\n",
    "        self.flatten = tf.keras.layers.Flatten()\n",
    "        self.fc1 = tf.keras.layers.Dense(128, activation='relu')\n",
    "        self.fc2 = tf.keras.layers.Dense(num_classes)\n",
    "\n",
    "    def call(self, inputs, training=None, mask=None):\n",
    "        x = self.conv1(inputs)\n",
    "        x = self.conv2(x)\n",
    "        x = self.conv3(x)\n",
    "        x = self.flatten(x)\n",
    "        x = self.fc1(x)\n",
    "        x = self.fc2(x)\n",
    "        return x\n",
    "\n",
    "# 初始化分类器\n",
    "classifier = Classifier(num_classes=10)\n",
    "\n",
    "# 定义损失函数和优化器\n",
    "loss_fn = tf.keras.losses.SparseCategoricalCrossentropy(from_logits=True)\n",
    "optimizer = tf.keras.optimizers.Adam()\n",
    "\n",
    "# 遍历每个区域\n",
    "for region_id, region in region_info.items():\n",
    "    # 获取该区域的向量\n",
    "    vector = region['vector']\n",
    "    # 将向量转换为 TensorFlow 张量\n",
    "    vector = tf.convert_to_tensor(vector, dtype=tf.float32)\n",
    "    # 将向量的维度扩展到 4 维，以便输入到网络中\n",
    "    vector = tf.expand_dims(vector, axis=0)\n",
    "    vector = tf.expand_dims(vector, axis=-1)\n",
    "    # 获取该区域的标签\n",
    "    label = region['label']\n",
    "    # 将标签转换为 TensorFlow 张量\n",
    "    label = tf.convert_to_tensor(label, dtype=tf.int64)\n",
    "\n",
    "    # 将向量喂给分类器进行分类\n",
    "    with tf.GradientTape() as tape:\n",
    "        logits = classifier(vector)\n",
    "        loss_value = loss_fn(label, logits)\n",
    "    # 计算梯度\n",
    "    grads = tape.gradient(loss_value, classifier.trainable_variables)\n",
    "    # 使用优化器更新模型参数\n",
    "    optimizer.apply_gradients(zip(grads, classifier.trainable_variables))\n"
   ]
  },
  {
   "cell_type": "code",
   "execution_count": null,
   "metadata": {},
   "outputs": [],
   "source": []
  }
 ],
 "metadata": {
  "kernelspec": {
   "display_name": "Python 3",
   "language": "python",
   "name": "python3"
  },
  "language_info": {
   "codemirror_mode": {
    "name": "ipython",
    "version": 3
   },
   "file_extension": ".py",
   "mimetype": "text/x-python",
   "name": "python",
   "nbconvert_exporter": "python",
   "pygments_lexer": "ipython3",
   "version": "3.10.7 (tags/v3.10.7:6cc6b13, Sep  5 2022, 14:08:36) [MSC v.1933 64 bit (AMD64)]"
  },
  "orig_nbformat": 4,
  "vscode": {
   "interpreter": {
    "hash": "92db34c69710aa5e39b6035808f19e5225f79f0c745942894f72ef3d238bcab3"
   }
  }
 },
 "nbformat": 4,
 "nbformat_minor": 2
}
