{
 "cells": [
  {
   "cell_type": "code",
   "execution_count": 5,
   "metadata": {},
   "outputs": [],
   "source": [
    "from random import choice\n",
    "from collections import Counter\n",
    "import math\n",
    "from graphviz import Digraph"
   ]
  },
  {
   "cell_type": "code",
   "execution_count": 6,
   "metadata": {},
   "outputs": [],
   "source": [
    "# 定义数据集\n",
    "D = [\n",
    "    {'色泽': '青绿', '根蒂': '蜷缩', '敲声': '浊响', '纹理': '清晰', '脐部': '凹陷', '触感': '硬滑', '好瓜': '是'},\n",
    "    {'色泽': '乌黑', '根蒂': '蜷缩', '敲声': '沉闷', '纹理': '清晰', '脐部': '凹陷', '触感': '硬滑', '好瓜': '是'},\n",
    "    {'色泽': '乌黑', '根蒂': '蜷缩', '敲声': '浊响', '纹理': '清晰', '脐部': '凹陷', '触感': '硬滑', '好瓜': '是'},\n",
    "    {'色泽': '青绿', '根蒂': '蜷缩', '敲声': '沉闷', '纹理': '清晰', '脐部': '凹陷', '触感': '硬滑', '好瓜': '是'},\n",
    "    {'色泽': '浅白', '根蒂': '蜷缩', '敲声': '浊响', '纹理': '清晰', '脐部': '凹陷', '触感': '硬滑', '好瓜': '是'},\n",
    "    {'色泽': '青绿', '根蒂': '稍蜷', '敲声': '浊响', '纹理': '清晰', '脐部': '稍凹', '触感': '软粘', '好瓜': '是'},\n",
    "    {'色泽': '乌黑', '根蒂': '稍蜷', '敲声': '浊响', '纹理': '稍糊', '脐部': '稍凹', '触感': '软粘', '好瓜': '是'},\n",
    "    {'色泽': '乌黑', '根蒂': '稍蜷', '敲声': '浊响', '纹理': '清晰', '脐部': '稍凹', '触感': '硬滑', '好瓜': '是'},\n",
    "    {'色泽': '乌黑', '根蒂': '稍蜷', '敲声': '沉闷', '纹理': '稍糊', '脐部': '稍凹', '触感': '硬滑', '好瓜': '否'},\n",
    "    {'色泽': '青绿', '根蒂': '硬挺', '敲声': '清脆', '纹理': '清晰', '脐部': '平坦', '触感': '软粘', '好瓜': '否'},\n",
    "    {'色泽': '浅白', '根蒂': '硬挺', '敲声': '清脆', '纹理': '模糊', '脐部': '平坦', '触感': '硬滑', '好瓜': '否'},\n",
    "    {'色泽': '浅白', '根蒂': '蜷缩', '敲声': '浊响', '纹理': '模糊', '脐部': '平坦', '触感': '软粘', '好瓜': '否'},\n",
    "    {'色泽': '青绿', '根蒂': '稍蜷', '敲声': '浊响', '纹理': '稍糊', '脐部': '凹陷', '触感': '硬滑', '好瓜': '否'},\n",
    "    {'色泽': '浅白', '根蒂': '稍蜷', '敲声': '沉闷', '纹理': '稍糊', '脐部': '凹陷', '触感': '硬滑', '好瓜': '否'},\n",
    "    {'色泽': '乌黑', '根蒂': '稍蜷', '敲声': '浊响', '纹理': '清晰', '脐部': '稍凹', '触感': '软粘', '好瓜': '否'},\n",
    "    {'色泽': '浅白', '根蒂': '蜷缩', '敲声': '浊响', '纹理': '模糊', '脐部': '平坦', '触感': '硬滑', '好瓜': '否'},\n",
    "    {'色泽': '青绿', '根蒂': '蜷缩', '敲声': '沉闷', '纹理': '稍糊', '脐部': '稍凹', '触感': '硬滑', '好瓜': '否'},\n",
    "]"
   ]
  },
  {
   "cell_type": "code",
   "execution_count": 7,
   "metadata": {},
   "outputs": [],
   "source": [
    "\n",
    "# ==========\n",
    "# 决策树生成类\n",
    "# ==========\n",
    "class DecisionTree:\n",
    "    def __init__(self, D, label, chooseA):\n",
    "        self.D = D  # 数据集\n",
    "        self.label = label  # 哪个属性作为标签\n",
    "        self.chooseA = chooseA  # 划分方法\n",
    "        self.A = list(filter(lambda key: key != label, D[0].keys()))  # 属性集合A\n",
    "        # 获得A的每个属性的可选项\n",
    "        self.A_item = {}\n",
    "        for a in self.A:\n",
    "            self.A_item.update({a: set(self.getClassValues(D, a))})\n",
    "        self.root = self.generate(self.D, self.A)  # 生成树并保存根节点\n",
    "\n",
    "    # 获得D中所有className属性的值\n",
    "    def getClassValues(self, D, className):\n",
    "        return list(map(lambda sample: sample[className], D))\n",
    "\n",
    "    # D中样本是否在A的每个属性上相同\n",
    "    def isSameInA(self, D, A):\n",
    "        for a in A:\n",
    "            types = set(self.getClassValues(D, a))\n",
    "            if len(types) > 1:\n",
    "                return False\n",
    "        return True\n",
    "\n",
    "    # 构建决策树，递归生成节点\n",
    "    def generate(self, D, A):\n",
    "        node = {}  # 生成节点\n",
    "        remainLabelValues = self.getClassValues(D, self.label)  # D中的所有标签\n",
    "        remainLabelTypes = set(remainLabelValues)  # D中含有哪几种标签\n",
    "\n",
    "        if len(remainLabelTypes) == 1:\n",
    "            # 当前节点包含的样本全属于同个类别，无需划分\n",
    "            return remainLabelTypes.pop()  # 标记Node为叶子结点,值为仅存的标签\n",
    "\n",
    "        most = max(remainLabelTypes, key=remainLabelValues.count)  # D占比最多的标签\n",
    "\n",
    "        if len(A) == 0 or self.isSameInA(D, A):\n",
    "            # 当前属性集为空，或是所有样本在所有属性上取值相同，无法划分\n",
    "            return most  # 标记Node为叶子结点,值为占比最多的标签\n",
    "\n",
    "        a = self.chooseA(D,A,self)  # 划分选择\n",
    "\n",
    "        for type in self.A_item[a]:\n",
    "            condition = (lambda sample: sample[a] == type)  # 决策条件\n",
    "            remainD = list(filter(condition, D))  # 剩下的样本\n",
    "            if len(remainD) == 0:\n",
    "                # 当前节点包含的样本集为空，不能划分\n",
    "                node.update({type: most})  # 标记Node为叶子结点,值为占比最多的标签\n",
    "            else:\n",
    "                # 继续对剩下的样本按其余属性划分\n",
    "                remainA = list(filter(lambda x: x != a, A))  # 未使用的属性\n",
    "                _node = self.generate(remainD, remainA)  # 递归生成子代节点\n",
    "                node.update({type: _node})  # 把生成的子代节点更新到当前节点\n",
    "        return {a: node}\n",
    "\n"
   ]
  },
  {
   "cell_type": "code",
   "execution_count": 8,
   "metadata": {},
   "outputs": [],
   "source": [
    "#  定义划分方法\n",
    "\n",
    "# 随机选择\n",
    "def random_choice(D, A, tree: DecisionTree):\n",
    "    return choice(A)\n"
   ]
  },
  {
   "cell_type": "code",
   "execution_count": 9,
   "metadata": {},
   "outputs": [],
   "source": [
    "# 信息熵\n",
    "def Ent(D,label,a,a_v):\n",
    "    D_v = filter(lambda sample:sample[a]==a_v,D)\n",
    "    D_v = map(lambda sample:sample[label],D_v)\n",
    "    D_v = list(D_v)\n",
    "    D_v_length = len(D_v)\n",
    "    counter = Counter(D_v)\n",
    "    info_entropy = 0\n",
    "    for k, v in counter.items():\n",
    "        p_k = v / D_v_length\n",
    "        info_entropy += p_k * math.log(p_k, 2)\n",
    "    return -info_entropy"
   ]
  },
  {
   "cell_type": "code",
   "execution_count": 10,
   "metadata": {},
   "outputs": [],
   "source": [
    "# 信息增益\n",
    "def information_gain(D, A, tree: DecisionTree):\n",
    "    gain = {}\n",
    "    for a in A:\n",
    "        gain[a] = 0\n",
    "        values = tree.getClassValues(D, a)\n",
    "        counter = Counter(values)\n",
    "        for a_v,nums in counter.items():\n",
    "            gain[a] -= (nums / len(D)) * Ent(D,tree.label,a,a_v)\n",
    "    return max(gain.keys(),key=lambda key:gain[key])"
   ]
  },
  {
   "cell_type": "code",
   "execution_count": 11,
   "metadata": {},
   "outputs": [
    {
     "name": "stdout",
     "output_type": "stream",
     "text": [
      "决策树: {'纹理': {'清晰': {'根蒂': {'稍蜷': {'色泽': {'浅白': '是', '青绿': '是', '乌黑': {'触感': {'软粘': '否', '硬滑': '是'}}}}, '蜷缩': '是', '硬挺': '否'}}, '稍糊': {'触感': {'软粘': '是', '硬滑': '否'}}, '模糊': '否'}}\n"
     ]
    }
   ],
   "source": [
    "#  创建决策树\n",
    "desicionTreeRoot = DecisionTree(D, label='好瓜',chooseA=information_gain).root\n",
    "print('决策树:', desicionTreeRoot)"
   ]
  },
  {
   "cell_type": "code",
   "execution_count": 12,
   "metadata": {},
   "outputs": [],
   "source": [
    "# 决策树可视化类\n",
    "class TreeViewer:\n",
    "    def __init__(self):\n",
    "        self.id_iter = map(str, range(0xffff))\n",
    "        self.g = Digraph('G', filename='decisionTree.gv')\n",
    "\n",
    "    def create_node(self, label, shape=None):\n",
    "        id = next(self.id_iter)\n",
    "        self.g.node(name=id, label=label, shape=shape, fontname=\"Microsoft YaHei\")\n",
    "        return id\n",
    "\n",
    "    def build(self, key, node, from_id):\n",
    "        for k in node.keys():\n",
    "            v = node[k]\n",
    "            if type(v) is dict:\n",
    "                first_attr = list(v.keys())[0]\n",
    "                id = self.create_node(first_attr+\"?\", shape='box')\n",
    "                self.g.edge(from_id, id, k, fontsize = '12', fontname=\"Microsoft YaHei\")\n",
    "                self.build(first_attr, v[first_attr], id)\n",
    "            else:\n",
    "                id = self.create_node(v)\n",
    "                self.g.edge(from_id, id, k, fontsize = '12', fontname=\"Microsoft YaHei\")\n",
    "\n",
    "    def show(self, root):\n",
    "        first_attr = list(root.keys())[0]\n",
    "        id = self.create_node(first_attr+\"?\", shape='box')\n",
    "        self.build(first_attr, root[first_attr], id)\n",
    "        self.g.view()"
   ]
  },
  {
   "cell_type": "code",
   "execution_count": 13,
   "metadata": {},
   "outputs": [],
   "source": [
    "# 显示创建的决策树\n",
    "viewer = TreeViewer()\n",
    "viewer.show(desicionTreeRoot)"
   ]
  }
 ],
 "metadata": {
  "kernelspec": {
   "display_name": "Python 3.10.7 64-bit",
   "language": "python",
   "name": "python3"
  },
  "language_info": {
   "codemirror_mode": {
    "name": "ipython",
    "version": 3
   },
   "file_extension": ".py",
   "mimetype": "text/x-python",
   "name": "python",
   "nbconvert_exporter": "python",
   "pygments_lexer": "ipython3",
   "version": "3.10.7"
  },
  "orig_nbformat": 4,
  "vscode": {
   "interpreter": {
    "hash": "92db34c69710aa5e39b6035808f19e5225f79f0c745942894f72ef3d238bcab3"
   }
  }
 },
 "nbformat": 4,
 "nbformat_minor": 2
}
