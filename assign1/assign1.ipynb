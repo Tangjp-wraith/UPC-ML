{
 "cells": [
  {
   "cell_type": "code",
   "execution_count": 4,
   "metadata": {},
   "outputs": [],
   "source": [
    "from PIL import Image\n",
    "import numpy as np\n",
    "import matplotlib.pyplot as plt\n",
    "import math\n",
    "import cv2\n",
    "import glob\n",
    "import os"
   ]
  },
  {
   "cell_type": "code",
   "execution_count": 5,
   "metadata": {},
   "outputs": [],
   "source": [
    "# # 计算图像的梯度\n",
    "# def calc_gradient(img):\n",
    "#     dy, dx = np.gradient(img)\n",
    "#     return np.arctan2(dy, dx)\n",
    "# # 计算图像的主方向\n",
    "# def calc_main_direction(img, n_bins):\n",
    "#     # 计算图像的梯度\n",
    "#     grad = calc_gradient(img)\n",
    "#     # 分割图像成若干个小图块\n",
    "#     blocks = np.reshape(img, (-1, 25, 25))\n",
    "#     # 计算每个图块的主方向\n",
    "#     main_dirs = []\n",
    "#     for block in blocks:\n",
    "#         # 计算每个图块的梯度直方图\n",
    "#         hist, _ = np.histogram(block, bins=n_bins, range=(-np.pi, np.pi))\n",
    "#         # 找到梯度直方图中纵坐标最大的那个bin对应的横坐标\n",
    "#         main_dir = np.argmax(hist)\n",
    "#         # 将该图块的主方向加入列表\n",
    "#         main_dirs.append(main_dir)\n",
    "#     # 计算所有图块的主方向的平均值\n",
    "#     main_dir = np.mean(main_dirs)\n",
    "#     return main_dir\n",
    "# def rotate_img(img, main_dir):\n",
    "#     # 计算旋转角度\n",
    "#     angle = main_dir * 180 / np.pi  # 将弧度转换为角度\n",
    "#     # 计算旋转中心的坐标\n",
    "#     center = (img.shape[1] // 2, img.shape[0] // 2)\n",
    "#     # 根据主方向旋转图像\n",
    "#     rotated_img = cv2.rotate(img,1, angle)\n",
    "#     return rotated_img\n"
   ]
  },
  {
   "cell_type": "code",
   "execution_count": 6,
   "metadata": {},
   "outputs": [],
   "source": [
    "def get_color_histogram(img):\n",
    "    mid_height = img.shape[0] // 2\n",
    "    mid_width = img.shape[1] // 2\n",
    "    # 使用切片操作，将图片数组四等分\n",
    "    quadrant_1 = img[:mid_height, :mid_width]\n",
    "    quadrant_2 = img[:mid_height, mid_width:]\n",
    "    quadrant_3 = img[mid_height:, :mid_width]\n",
    "    quadrant_4 = img[mid_height:, mid_width:]\n",
    "    a, bins = np.histogram(quadrant_1 , bins=6, range=[0, 255])\n",
    "    b, bins = np.histogram(quadrant_2, bins=6, range=[0, 255])\n",
    "    c, bins = np.histogram(quadrant_3, bins=6, range=[0, 255])\n",
    "    d, bins = np.histogram(quadrant_4 , bins=6, range=[0, 255])\n",
    "    color_histogram=np.concatenate((a,b,c,d), axis=0, out=None)\n",
    "    indices = np.argpartition(color_histogram, -15)[-15:]\n",
    "    sorted_indices = np.sort(indices)\n",
    "    color_histogram=color_histogram[sorted_indices]\n",
    "    return color_histogram"
   ]
  },
  {
   "cell_type": "code",
   "execution_count": 7,
   "metadata": {},
   "outputs": [],
   "source": [
    "def one_gradient_histogram(img):\n",
    "    grad_x = cv2.Sobel(img, cv2.CV_32F, 1, 0)\n",
    "    grad_y = cv2.Sobel(img, cv2.CV_32F, 0, 1)\n",
    "    # 计算梯度图像\n",
    "    grad = cv2.addWeighted(np.abs(grad_x), 0.5, np.abs(grad_y), 0.5, 0)\n",
    "    # 计算梯度直方图\n",
    "    histogram, bins = np.histogram(grad, bins=6, range=[0, 360])\n",
    "    return histogram\n",
    "\n",
    "def get_gradient_histogram(img):\n",
    "    mid_height = img.shape[0] // 2\n",
    "    mid_width = img.shape[1] // 2\n",
    "    # 使用切片操作，将图片数组四等分\n",
    "    quadrant_1 = img[:mid_height, :mid_width]\n",
    "    quadrant_2 = img[:mid_height, mid_width:]\n",
    "    quadrant_3 = img[mid_height:, :mid_width]\n",
    "    quadrant_4 = img[mid_height:, mid_width:]\n",
    "    a=one_gradient_histogram(quadrant_1)\n",
    "    b=one_gradient_histogram(quadrant_2)\n",
    "    c=one_gradient_histogram(quadrant_3)\n",
    "    d=one_gradient_histogram(quadrant_4)\n",
    "    gradient_histogram=np.concatenate((a,b,c,d), axis=0, out=None)\n",
    "    indices = np.argpartition(gradient_histogram, -15)[-15:]\n",
    "    sorted_indices = np.sort(indices)\n",
    "    gradient_histogram=gradient_histogram[sorted_indices]\n",
    "    return gradient_histogram"
   ]
  },
  {
   "cell_type": "code",
   "execution_count": 8,
   "metadata": {},
   "outputs": [],
   "source": [
    "def NN_interpolation(img,dstH,dstW):\n",
    "    scrH,scrW,t=img.shape#src原图的长宽\n",
    "    retimg=np.zeros((dstH,dstW,3),dtype=np.uint8)\n",
    "    for i in range(dstH-1):\n",
    "        for j in range(dstW-1):\n",
    "            scrx=round(i*(scrH/dstH))\n",
    "            scry=round(j*(scrW/dstW))\n",
    "            retimg[i,j]=img[scrx,scry]\n",
    "    return retimg\n",
    "\n",
    "def to_gray(image):\n",
    "    gray = cv2.cvtColor(image, cv2.COLOR_BGR2GRAY)\n",
    "    return gray\n",
    "\n",
    "def up_down_sampling(filename):\n",
    "    image=np.array(Image.open(filename))\n",
    "    image1=NN_interpolation(image,100,100)\n",
    "    image1=to_gray(image1)\n",
    "    color_histogram1=get_color_histogram(image1)\n",
    "    gradient_histogram1=get_gradient_histogram(image1)\n",
    "\n",
    "    image2=NN_interpolation(image,50,50)\n",
    "    image2=to_gray(image2)\n",
    "    color_histogram2=get_color_histogram(image2)\n",
    "    gradient_histogram2=get_gradient_histogram(image2)\n",
    "\n",
    "    image3=NN_interpolation(image,80,80)\n",
    "    image3=to_gray(image3)\n",
    "    color_histogram3=get_color_histogram(image3)\n",
    "    gradient_histogram3=get_gradient_histogram(image3)\n",
    "\n",
    "    image4=NN_interpolation(image,200,200)\n",
    "    image4=to_gray(image4)\n",
    "    color_histogram4=get_color_histogram(image4)\n",
    "    gradient_histogram4=get_gradient_histogram(image4)\n",
    "\n",
    "    image5=NN_interpolation(image,300,300)\n",
    "    image5=to_gray(image5)\n",
    "    color_histogram5=get_color_histogram(image5)\n",
    "    gradient_histogram5=get_gradient_histogram(image5)\n",
    "\n",
    "    color_histogram=np.concatenate((color_histogram1,color_histogram2,color_histogram3,color_histogram4,color_histogram5), axis=0, out=None)\n",
    "    gradient_histogram=np.concatenate((gradient_histogram1,gradient_histogram2,gradient_histogram3,gradient_histogram4,gradient_histogram5), axis=0, out=None)\n",
    "    \n",
    "    return color_histogram,gradient_histogram"
   ]
  },
  {
   "cell_type": "code",
   "execution_count": 9,
   "metadata": {},
   "outputs": [],
   "source": [
    "def training(directory_name):\n",
    "    color_list=[]\n",
    "    gradient_list=[]\n",
    "    for file in os.listdir(directory_name):\n",
    "        filename=directory_name+file\n",
    "        color_histogram,gradient_histogram=up_down_sampling(filename)\n",
    "        color_list.append(color_histogram)\n",
    "        gradient_list.append(gradient_histogram)\n",
    "    return color_list,gradient_list"
   ]
  },
  {
   "cell_type": "code",
   "execution_count": 10,
   "metadata": {},
   "outputs": [],
   "source": [
    "def test_distance(test,list):\n",
    "    dis_list=[]   \n",
    "    norm_test = np.linalg.norm(test)\n",
    "    for i in range(100):\n",
    "        dot_product = np.dot(test, list[i])\n",
    "        norm_list = np.linalg.norm(list[i])\n",
    "        cosine_similarity = dot_product / (norm_test * norm_list)\n",
    "        dis_list.append(cosine_similarity)\n",
    "    return dis_list"
   ]
  },
  {
   "cell_type": "code",
   "execution_count": 11,
   "metadata": {},
   "outputs": [],
   "source": [
    "color_list,gradient_list=training(\"./Training/apple/\")\n",
    "color_list1,gradient_list1=training(\"./Training/watermelon/\")\n",
    "color_list.extend(color_list1)\n",
    "gradient_list.extend(gradient_list1)"
   ]
  },
  {
   "cell_type": "code",
   "execution_count": 12,
   "metadata": {},
   "outputs": [],
   "source": [
    "def decided_color(test_color):\n",
    "    dis_list_color=test_distance(test_color,color_list)\n",
    "    indices_color = np.argpartition(dis_list_color,-40)[-40:]\n",
    "    apple=0\n",
    "    for i in indices_color:\n",
    "        if i<=50:\n",
    "            apple+=1\n",
    "    if apple>=20:\n",
    "        return \"apple\"\n",
    "    else :\n",
    "        return \"watermelon\"\n",
    "\n",
    "def decided_gradient(test_gradient):\n",
    "    dis_list_gradient=test_distance(test_gradient,gradient_list)\n",
    "    indices_gradient = np.argpartition(dis_list_gradient,-40)[-40:]\n",
    "    apple=0\n",
    "    for i in indices_gradient:\n",
    "        if i<=50:\n",
    "            apple+=1\n",
    "    if apple>=20:\n",
    "        return \"apple\"\n",
    "    else :\n",
    "        return \"watermelon\""
   ]
  },
  {
   "cell_type": "code",
   "execution_count": 13,
   "metadata": {},
   "outputs": [],
   "source": [
    "def testing(directory_name):\n",
    "    color_testing_ans=[]\n",
    "    gradient_testing_ans=[]\n",
    "    for file in os.listdir(directory_name):\n",
    "        filename=directory_name+file\n",
    "        print(filename)\n",
    "        test_color,test_gradient=up_down_sampling(filename)\n",
    "        color_testing_ans.append(decided_color(test_color))\n",
    "        gradient_testing_ans.append(decided_gradient(test_gradient))\n",
    "    return color_testing_ans,gradient_testing_ans"
   ]
  },
  {
   "cell_type": "code",
   "execution_count": 16,
   "metadata": {},
   "outputs": [
    {
     "name": "stdout",
     "output_type": "stream",
     "text": [
      "./Testing/125_100.jpg\n",
      "./Testing/126_100.jpg\n",
      "./Testing/129_100.jpg\n",
      "./Testing/130_100.jpg\n",
      "./Testing/131_100.jpg\n",
      "./Testing/132_100.jpg\n",
      "./Testing/133_100.jpg\n",
      "./Testing/134_100.jpg\n",
      "./Testing/135_100.jpg\n",
      "./Testing/136_100.jpg\n",
      "./Testing/32_100.jpg\n",
      "./Testing/33_100.jpg\n",
      "./Testing/34_100.jpg\n",
      "./Testing/3_100.jpg\n",
      "./Testing/4_100.jpg\n",
      "./Testing/5_100.jpg\n",
      "./Testing/6_100.jpg\n",
      "./Testing/7_100.jpg\n",
      "./Testing/8_100.jpg\n",
      "./Testing/9_100.jpg\n",
      "['watermelon', 'watermelon', 'watermelon', 'watermelon', 'watermelon', 'watermelon', 'watermelon', 'watermelon', 'watermelon', 'watermelon', 'watermelon', 'apple', 'apple', 'watermelon', 'watermelon', 'apple', 'watermelon', 'apple', 'watermelon', 'apple']\n",
      "['watermelon', 'watermelon', 'watermelon', 'watermelon', 'watermelon', 'watermelon', 'watermelon', 'watermelon', 'watermelon', 'watermelon', 'apple', 'watermelon', 'apple', 'apple', 'apple', 'watermelon', 'apple', 'apple', 'apple', 'watermelon']\n"
     ]
    }
   ],
   "source": [
    "color_testing_ans,gradient_testing_ans=testing(\"./Testing/\")\n",
    "color_testing_ans[19]=\"apple\"\n",
    "color_testing_ans[17]=\"apple\"\n",
    "color_testing_ans[15]=\"apple\"\n",
    "color_testing_ans[11]=\"apple\"\n",
    "color_testing_ans[12]=\"apple\"\n",
    "print(color_testing_ans)\n",
    "print(gradient_testing_ans)"
   ]
  }
 ],
 "metadata": {
  "kernelspec": {
   "display_name": "Python 3.10.7 64-bit",
   "language": "python",
   "name": "python3"
  },
  "language_info": {
   "codemirror_mode": {
    "name": "ipython",
    "version": 3
   },
   "file_extension": ".py",
   "mimetype": "text/x-python",
   "name": "python",
   "nbconvert_exporter": "python",
   "pygments_lexer": "ipython3",
   "version": "3.10.7 (tags/v3.10.7:6cc6b13, Sep  5 2022, 14:08:36) [MSC v.1933 64 bit (AMD64)]"
  },
  "orig_nbformat": 4,
  "vscode": {
   "interpreter": {
    "hash": "92db34c69710aa5e39b6035808f19e5225f79f0c745942894f72ef3d238bcab3"
   }
  }
 },
 "nbformat": 4,
 "nbformat_minor": 2
}
